{
 "cells": [
  {
   "cell_type": "markdown",
   "id": "c73775a4",
   "metadata": {},
   "source": [
    "# Beta Bank\n",
    "\n",
    "## Predicciones frente al comportamiento de los clientes"
   ]
  },
  {
   "cell_type": "markdown",
   "id": "7ef99dd2",
   "metadata": {},
   "source": [
    "Con este trabajo se pretende entrenar un modelo para predecir qué clientes están por irse del banco, buscando evitarlo, ya que resulta más rentable salvar a los clientes existentes que atraer nuevos.\n",
    "\n",
    "### Objetivo: \n",
    "\n",
    "Crear un modelo con el máximo valor F1 posible (mínimo 0.59)."
   ]
  },
  {
   "cell_type": "code",
   "execution_count": 1,
   "id": "bd467ed5",
   "metadata": {},
   "outputs": [],
   "source": [
    "#Librerías utilizadas.\n",
    "\n",
    "import pandas as pd\n",
    "import matplotlib.pyplot as plt\n",
    "from sklearn.model_selection import train_test_split\n",
    "from sklearn.tree import DecisionTreeClassifier\n",
    "from sklearn.metrics import accuracy_score\n",
    "from sklearn.ensemble import RandomForestClassifier\n",
    "from sklearn.linear_model import LogisticRegression\n",
    "from sklearn.metrics import precision_score\n",
    "from sklearn.metrics import recall_score\n",
    "from sklearn.metrics import f1_score\n",
    "from sklearn.utils import shuffle\n",
    "from sklearn.dummy import DummyClassifier\n",
    "from sklearn.metrics import roc_curve\n",
    "from sklearn.metrics import roc_auc_score"
   ]
  },
  {
   "cell_type": "code",
   "execution_count": 2,
   "id": "a87ab7db",
   "metadata": {},
   "outputs": [],
   "source": [
    "#Uso en el ordenador.\n",
    "#data = pd.read_csv('./Churn.csv')\n",
    "\n",
    "#Revisión externa. \n",
    "data = pd.read_csv('/datasets/Churn.csv')"
   ]
  },
  {
   "cell_type": "code",
   "execution_count": 3,
   "id": "235a85fc",
   "metadata": {
    "scrolled": false
   },
   "outputs": [
    {
     "data": {
      "text/html": [
       "<div>\n",
       "<style scoped>\n",
       "    .dataframe tbody tr th:only-of-type {\n",
       "        vertical-align: middle;\n",
       "    }\n",
       "\n",
       "    .dataframe tbody tr th {\n",
       "        vertical-align: top;\n",
       "    }\n",
       "\n",
       "    .dataframe thead th {\n",
       "        text-align: right;\n",
       "    }\n",
       "</style>\n",
       "<table border=\"1\" class=\"dataframe\">\n",
       "  <thead>\n",
       "    <tr style=\"text-align: right;\">\n",
       "      <th></th>\n",
       "      <th>RowNumber</th>\n",
       "      <th>CustomerId</th>\n",
       "      <th>Surname</th>\n",
       "      <th>CreditScore</th>\n",
       "      <th>Geography</th>\n",
       "      <th>Gender</th>\n",
       "      <th>Age</th>\n",
       "      <th>Tenure</th>\n",
       "      <th>Balance</th>\n",
       "      <th>NumOfProducts</th>\n",
       "      <th>HasCrCard</th>\n",
       "      <th>IsActiveMember</th>\n",
       "      <th>EstimatedSalary</th>\n",
       "      <th>Exited</th>\n",
       "    </tr>\n",
       "  </thead>\n",
       "  <tbody>\n",
       "    <tr>\n",
       "      <th>0</th>\n",
       "      <td>1</td>\n",
       "      <td>15634602</td>\n",
       "      <td>Hargrave</td>\n",
       "      <td>619</td>\n",
       "      <td>France</td>\n",
       "      <td>Female</td>\n",
       "      <td>42</td>\n",
       "      <td>2.0</td>\n",
       "      <td>0.00</td>\n",
       "      <td>1</td>\n",
       "      <td>1</td>\n",
       "      <td>1</td>\n",
       "      <td>101348.88</td>\n",
       "      <td>1</td>\n",
       "    </tr>\n",
       "    <tr>\n",
       "      <th>1</th>\n",
       "      <td>2</td>\n",
       "      <td>15647311</td>\n",
       "      <td>Hill</td>\n",
       "      <td>608</td>\n",
       "      <td>Spain</td>\n",
       "      <td>Female</td>\n",
       "      <td>41</td>\n",
       "      <td>1.0</td>\n",
       "      <td>83807.86</td>\n",
       "      <td>1</td>\n",
       "      <td>0</td>\n",
       "      <td>1</td>\n",
       "      <td>112542.58</td>\n",
       "      <td>0</td>\n",
       "    </tr>\n",
       "    <tr>\n",
       "      <th>2</th>\n",
       "      <td>3</td>\n",
       "      <td>15619304</td>\n",
       "      <td>Onio</td>\n",
       "      <td>502</td>\n",
       "      <td>France</td>\n",
       "      <td>Female</td>\n",
       "      <td>42</td>\n",
       "      <td>8.0</td>\n",
       "      <td>159660.80</td>\n",
       "      <td>3</td>\n",
       "      <td>1</td>\n",
       "      <td>0</td>\n",
       "      <td>113931.57</td>\n",
       "      <td>1</td>\n",
       "    </tr>\n",
       "    <tr>\n",
       "      <th>3</th>\n",
       "      <td>4</td>\n",
       "      <td>15701354</td>\n",
       "      <td>Boni</td>\n",
       "      <td>699</td>\n",
       "      <td>France</td>\n",
       "      <td>Female</td>\n",
       "      <td>39</td>\n",
       "      <td>1.0</td>\n",
       "      <td>0.00</td>\n",
       "      <td>2</td>\n",
       "      <td>0</td>\n",
       "      <td>0</td>\n",
       "      <td>93826.63</td>\n",
       "      <td>0</td>\n",
       "    </tr>\n",
       "    <tr>\n",
       "      <th>4</th>\n",
       "      <td>5</td>\n",
       "      <td>15737888</td>\n",
       "      <td>Mitchell</td>\n",
       "      <td>850</td>\n",
       "      <td>Spain</td>\n",
       "      <td>Female</td>\n",
       "      <td>43</td>\n",
       "      <td>2.0</td>\n",
       "      <td>125510.82</td>\n",
       "      <td>1</td>\n",
       "      <td>1</td>\n",
       "      <td>1</td>\n",
       "      <td>79084.10</td>\n",
       "      <td>0</td>\n",
       "    </tr>\n",
       "    <tr>\n",
       "      <th>5</th>\n",
       "      <td>6</td>\n",
       "      <td>15574012</td>\n",
       "      <td>Chu</td>\n",
       "      <td>645</td>\n",
       "      <td>Spain</td>\n",
       "      <td>Male</td>\n",
       "      <td>44</td>\n",
       "      <td>8.0</td>\n",
       "      <td>113755.78</td>\n",
       "      <td>2</td>\n",
       "      <td>1</td>\n",
       "      <td>0</td>\n",
       "      <td>149756.71</td>\n",
       "      <td>1</td>\n",
       "    </tr>\n",
       "    <tr>\n",
       "      <th>6</th>\n",
       "      <td>7</td>\n",
       "      <td>15592531</td>\n",
       "      <td>Bartlett</td>\n",
       "      <td>822</td>\n",
       "      <td>France</td>\n",
       "      <td>Male</td>\n",
       "      <td>50</td>\n",
       "      <td>7.0</td>\n",
       "      <td>0.00</td>\n",
       "      <td>2</td>\n",
       "      <td>1</td>\n",
       "      <td>1</td>\n",
       "      <td>10062.80</td>\n",
       "      <td>0</td>\n",
       "    </tr>\n",
       "    <tr>\n",
       "      <th>7</th>\n",
       "      <td>8</td>\n",
       "      <td>15656148</td>\n",
       "      <td>Obinna</td>\n",
       "      <td>376</td>\n",
       "      <td>Germany</td>\n",
       "      <td>Female</td>\n",
       "      <td>29</td>\n",
       "      <td>4.0</td>\n",
       "      <td>115046.74</td>\n",
       "      <td>4</td>\n",
       "      <td>1</td>\n",
       "      <td>0</td>\n",
       "      <td>119346.88</td>\n",
       "      <td>1</td>\n",
       "    </tr>\n",
       "    <tr>\n",
       "      <th>8</th>\n",
       "      <td>9</td>\n",
       "      <td>15792365</td>\n",
       "      <td>He</td>\n",
       "      <td>501</td>\n",
       "      <td>France</td>\n",
       "      <td>Male</td>\n",
       "      <td>44</td>\n",
       "      <td>4.0</td>\n",
       "      <td>142051.07</td>\n",
       "      <td>2</td>\n",
       "      <td>0</td>\n",
       "      <td>1</td>\n",
       "      <td>74940.50</td>\n",
       "      <td>0</td>\n",
       "    </tr>\n",
       "    <tr>\n",
       "      <th>9</th>\n",
       "      <td>10</td>\n",
       "      <td>15592389</td>\n",
       "      <td>H?</td>\n",
       "      <td>684</td>\n",
       "      <td>France</td>\n",
       "      <td>Male</td>\n",
       "      <td>27</td>\n",
       "      <td>2.0</td>\n",
       "      <td>134603.88</td>\n",
       "      <td>1</td>\n",
       "      <td>1</td>\n",
       "      <td>1</td>\n",
       "      <td>71725.73</td>\n",
       "      <td>0</td>\n",
       "    </tr>\n",
       "  </tbody>\n",
       "</table>\n",
       "</div>"
      ],
      "text/plain": [
       "   RowNumber  CustomerId   Surname  CreditScore Geography  Gender  Age  \\\n",
       "0          1    15634602  Hargrave          619    France  Female   42   \n",
       "1          2    15647311      Hill          608     Spain  Female   41   \n",
       "2          3    15619304      Onio          502    France  Female   42   \n",
       "3          4    15701354      Boni          699    France  Female   39   \n",
       "4          5    15737888  Mitchell          850     Spain  Female   43   \n",
       "5          6    15574012       Chu          645     Spain    Male   44   \n",
       "6          7    15592531  Bartlett          822    France    Male   50   \n",
       "7          8    15656148    Obinna          376   Germany  Female   29   \n",
       "8          9    15792365        He          501    France    Male   44   \n",
       "9         10    15592389        H?          684    France    Male   27   \n",
       "\n",
       "   Tenure    Balance  NumOfProducts  HasCrCard  IsActiveMember  \\\n",
       "0     2.0       0.00              1          1               1   \n",
       "1     1.0   83807.86              1          0               1   \n",
       "2     8.0  159660.80              3          1               0   \n",
       "3     1.0       0.00              2          0               0   \n",
       "4     2.0  125510.82              1          1               1   \n",
       "5     8.0  113755.78              2          1               0   \n",
       "6     7.0       0.00              2          1               1   \n",
       "7     4.0  115046.74              4          1               0   \n",
       "8     4.0  142051.07              2          0               1   \n",
       "9     2.0  134603.88              1          1               1   \n",
       "\n",
       "   EstimatedSalary  Exited  \n",
       "0        101348.88       1  \n",
       "1        112542.58       0  \n",
       "2        113931.57       1  \n",
       "3         93826.63       0  \n",
       "4         79084.10       0  \n",
       "5        149756.71       1  \n",
       "6         10062.80       0  \n",
       "7        119346.88       1  \n",
       "8         74940.50       0  \n",
       "9         71725.73       0  "
      ]
     },
     "execution_count": 3,
     "metadata": {},
     "output_type": "execute_result"
    }
   ],
   "source": [
    "data.head(10)"
   ]
  },
  {
   "cell_type": "code",
   "execution_count": 4,
   "id": "d135d022",
   "metadata": {
    "scrolled": true
   },
   "outputs": [
    {
     "data": {
      "text/plain": [
       "array(['France', 'Spain', 'Germany'], dtype=object)"
      ]
     },
     "execution_count": 4,
     "metadata": {},
     "output_type": "execute_result"
    }
   ],
   "source": [
    "#Revisión de qué tan extensa es la lista de países. \n",
    "\n",
    "data['Geography'].unique()"
   ]
  },
  {
   "cell_type": "code",
   "execution_count": 5,
   "id": "3b2ad64a",
   "metadata": {
    "scrolled": true
   },
   "outputs": [
    {
     "name": "stdout",
     "output_type": "stream",
     "text": [
      "<class 'pandas.core.frame.DataFrame'>\n",
      "RangeIndex: 10000 entries, 0 to 9999\n",
      "Data columns (total 14 columns):\n",
      " #   Column           Non-Null Count  Dtype  \n",
      "---  ------           --------------  -----  \n",
      " 0   RowNumber        10000 non-null  int64  \n",
      " 1   CustomerId       10000 non-null  int64  \n",
      " 2   Surname          10000 non-null  object \n",
      " 3   CreditScore      10000 non-null  int64  \n",
      " 4   Geography        10000 non-null  object \n",
      " 5   Gender           10000 non-null  object \n",
      " 6   Age              10000 non-null  int64  \n",
      " 7   Tenure           9091 non-null   float64\n",
      " 8   Balance          10000 non-null  float64\n",
      " 9   NumOfProducts    10000 non-null  int64  \n",
      " 10  HasCrCard        10000 non-null  int64  \n",
      " 11  IsActiveMember   10000 non-null  int64  \n",
      " 12  EstimatedSalary  10000 non-null  float64\n",
      " 13  Exited           10000 non-null  int64  \n",
      "dtypes: float64(3), int64(8), object(3)\n",
      "memory usage: 1.1+ MB\n"
     ]
    }
   ],
   "source": [
    "data.info()"
   ]
  },
  {
   "cell_type": "code",
   "execution_count": 6,
   "id": "a0f52f3b",
   "metadata": {},
   "outputs": [
    {
     "name": "stdout",
     "output_type": "stream",
     "text": [
      "(10000, 14)\n"
     ]
    }
   ],
   "source": [
    "print(data.shape)"
   ]
  },
  {
   "cell_type": "code",
   "execution_count": 7,
   "id": "d724cbae",
   "metadata": {
    "scrolled": true
   },
   "outputs": [
    {
     "data": {
      "text/html": [
       "<div>\n",
       "<style scoped>\n",
       "    .dataframe tbody tr th:only-of-type {\n",
       "        vertical-align: middle;\n",
       "    }\n",
       "\n",
       "    .dataframe tbody tr th {\n",
       "        vertical-align: top;\n",
       "    }\n",
       "\n",
       "    .dataframe thead th {\n",
       "        text-align: right;\n",
       "    }\n",
       "</style>\n",
       "<table border=\"1\" class=\"dataframe\">\n",
       "  <thead>\n",
       "    <tr style=\"text-align: right;\">\n",
       "      <th></th>\n",
       "      <th>RowNumber</th>\n",
       "      <th>CustomerId</th>\n",
       "      <th>CreditScore</th>\n",
       "      <th>Age</th>\n",
       "      <th>Tenure</th>\n",
       "      <th>Balance</th>\n",
       "      <th>NumOfProducts</th>\n",
       "      <th>HasCrCard</th>\n",
       "      <th>IsActiveMember</th>\n",
       "      <th>EstimatedSalary</th>\n",
       "      <th>Exited</th>\n",
       "    </tr>\n",
       "  </thead>\n",
       "  <tbody>\n",
       "    <tr>\n",
       "      <th>count</th>\n",
       "      <td>10000.00000</td>\n",
       "      <td>1.000000e+04</td>\n",
       "      <td>10000.000000</td>\n",
       "      <td>10000.000000</td>\n",
       "      <td>9091.000000</td>\n",
       "      <td>10000.000000</td>\n",
       "      <td>10000.000000</td>\n",
       "      <td>10000.00000</td>\n",
       "      <td>10000.000000</td>\n",
       "      <td>10000.000000</td>\n",
       "      <td>10000.000000</td>\n",
       "    </tr>\n",
       "    <tr>\n",
       "      <th>mean</th>\n",
       "      <td>5000.50000</td>\n",
       "      <td>1.569094e+07</td>\n",
       "      <td>650.528800</td>\n",
       "      <td>38.921800</td>\n",
       "      <td>4.997690</td>\n",
       "      <td>76485.889288</td>\n",
       "      <td>1.530200</td>\n",
       "      <td>0.70550</td>\n",
       "      <td>0.515100</td>\n",
       "      <td>100090.239881</td>\n",
       "      <td>0.203700</td>\n",
       "    </tr>\n",
       "    <tr>\n",
       "      <th>std</th>\n",
       "      <td>2886.89568</td>\n",
       "      <td>7.193619e+04</td>\n",
       "      <td>96.653299</td>\n",
       "      <td>10.487806</td>\n",
       "      <td>2.894723</td>\n",
       "      <td>62397.405202</td>\n",
       "      <td>0.581654</td>\n",
       "      <td>0.45584</td>\n",
       "      <td>0.499797</td>\n",
       "      <td>57510.492818</td>\n",
       "      <td>0.402769</td>\n",
       "    </tr>\n",
       "    <tr>\n",
       "      <th>min</th>\n",
       "      <td>1.00000</td>\n",
       "      <td>1.556570e+07</td>\n",
       "      <td>350.000000</td>\n",
       "      <td>18.000000</td>\n",
       "      <td>0.000000</td>\n",
       "      <td>0.000000</td>\n",
       "      <td>1.000000</td>\n",
       "      <td>0.00000</td>\n",
       "      <td>0.000000</td>\n",
       "      <td>11.580000</td>\n",
       "      <td>0.000000</td>\n",
       "    </tr>\n",
       "    <tr>\n",
       "      <th>25%</th>\n",
       "      <td>2500.75000</td>\n",
       "      <td>1.562853e+07</td>\n",
       "      <td>584.000000</td>\n",
       "      <td>32.000000</td>\n",
       "      <td>2.000000</td>\n",
       "      <td>0.000000</td>\n",
       "      <td>1.000000</td>\n",
       "      <td>0.00000</td>\n",
       "      <td>0.000000</td>\n",
       "      <td>51002.110000</td>\n",
       "      <td>0.000000</td>\n",
       "    </tr>\n",
       "    <tr>\n",
       "      <th>50%</th>\n",
       "      <td>5000.50000</td>\n",
       "      <td>1.569074e+07</td>\n",
       "      <td>652.000000</td>\n",
       "      <td>37.000000</td>\n",
       "      <td>5.000000</td>\n",
       "      <td>97198.540000</td>\n",
       "      <td>1.000000</td>\n",
       "      <td>1.00000</td>\n",
       "      <td>1.000000</td>\n",
       "      <td>100193.915000</td>\n",
       "      <td>0.000000</td>\n",
       "    </tr>\n",
       "    <tr>\n",
       "      <th>75%</th>\n",
       "      <td>7500.25000</td>\n",
       "      <td>1.575323e+07</td>\n",
       "      <td>718.000000</td>\n",
       "      <td>44.000000</td>\n",
       "      <td>7.000000</td>\n",
       "      <td>127644.240000</td>\n",
       "      <td>2.000000</td>\n",
       "      <td>1.00000</td>\n",
       "      <td>1.000000</td>\n",
       "      <td>149388.247500</td>\n",
       "      <td>0.000000</td>\n",
       "    </tr>\n",
       "    <tr>\n",
       "      <th>max</th>\n",
       "      <td>10000.00000</td>\n",
       "      <td>1.581569e+07</td>\n",
       "      <td>850.000000</td>\n",
       "      <td>92.000000</td>\n",
       "      <td>10.000000</td>\n",
       "      <td>250898.090000</td>\n",
       "      <td>4.000000</td>\n",
       "      <td>1.00000</td>\n",
       "      <td>1.000000</td>\n",
       "      <td>199992.480000</td>\n",
       "      <td>1.000000</td>\n",
       "    </tr>\n",
       "  </tbody>\n",
       "</table>\n",
       "</div>"
      ],
      "text/plain": [
       "         RowNumber    CustomerId   CreditScore           Age       Tenure  \\\n",
       "count  10000.00000  1.000000e+04  10000.000000  10000.000000  9091.000000   \n",
       "mean    5000.50000  1.569094e+07    650.528800     38.921800     4.997690   \n",
       "std     2886.89568  7.193619e+04     96.653299     10.487806     2.894723   \n",
       "min        1.00000  1.556570e+07    350.000000     18.000000     0.000000   \n",
       "25%     2500.75000  1.562853e+07    584.000000     32.000000     2.000000   \n",
       "50%     5000.50000  1.569074e+07    652.000000     37.000000     5.000000   \n",
       "75%     7500.25000  1.575323e+07    718.000000     44.000000     7.000000   \n",
       "max    10000.00000  1.581569e+07    850.000000     92.000000    10.000000   \n",
       "\n",
       "             Balance  NumOfProducts    HasCrCard  IsActiveMember  \\\n",
       "count   10000.000000   10000.000000  10000.00000    10000.000000   \n",
       "mean    76485.889288       1.530200      0.70550        0.515100   \n",
       "std     62397.405202       0.581654      0.45584        0.499797   \n",
       "min         0.000000       1.000000      0.00000        0.000000   \n",
       "25%         0.000000       1.000000      0.00000        0.000000   \n",
       "50%     97198.540000       1.000000      1.00000        1.000000   \n",
       "75%    127644.240000       2.000000      1.00000        1.000000   \n",
       "max    250898.090000       4.000000      1.00000        1.000000   \n",
       "\n",
       "       EstimatedSalary        Exited  \n",
       "count     10000.000000  10000.000000  \n",
       "mean     100090.239881      0.203700  \n",
       "std       57510.492818      0.402769  \n",
       "min          11.580000      0.000000  \n",
       "25%       51002.110000      0.000000  \n",
       "50%      100193.915000      0.000000  \n",
       "75%      149388.247500      0.000000  \n",
       "max      199992.480000      1.000000  "
      ]
     },
     "execution_count": 7,
     "metadata": {},
     "output_type": "execute_result"
    }
   ],
   "source": [
    "data.describe()"
   ]
  },
  {
   "cell_type": "code",
   "execution_count": 8,
   "id": "9f605d42",
   "metadata": {
    "scrolled": true
   },
   "outputs": [
    {
     "name": "stdout",
     "output_type": "stream",
     "text": [
      "0\n"
     ]
    }
   ],
   "source": [
    "#Revisión de duplicados.\n",
    "\n",
    "print(data.duplicated().sum())"
   ]
  },
  {
   "cell_type": "code",
   "execution_count": 9,
   "id": "6d88981b",
   "metadata": {},
   "outputs": [
    {
     "name": "stdout",
     "output_type": "stream",
     "text": [
      "RowNumber            0\n",
      "CustomerId           0\n",
      "Surname              0\n",
      "CreditScore          0\n",
      "Geography            0\n",
      "Gender               0\n",
      "Age                  0\n",
      "Tenure             909\n",
      "Balance              0\n",
      "NumOfProducts        0\n",
      "HasCrCard            0\n",
      "IsActiveMember       0\n",
      "EstimatedSalary      0\n",
      "Exited               0\n",
      "dtype: int64\n"
     ]
    }
   ],
   "source": [
    "#Revisión de datos ausentes.\n",
    "\n",
    "print(data.isna().sum())"
   ]
  },
  {
   "cell_type": "markdown",
   "id": "b3fe1ced",
   "metadata": {},
   "source": [
    "## Observaciones a partir del Data Frame\n",
    "\n",
    "- Los nombres de las columnas son una mezcla de minúsculas y mayúsculas, se cambiarán estos para unificar los estilos de escritura a una mejor práctica.\n",
    "- Los tipos de datos son correctos en cada columna.\n",
    "- No todos los datos aportan al objetivo, podemos descartar: 'RowNumber', 'CustomerId', 'Surname'. Se transformarán  'Geography y 'Gender' con el método 'One Hot' para tenerlos en cuenta en el modelo, mientras el resto de datos se dejarán tal cual están.\n",
    "- Hay 909 datos ausentes de la columna 'Tenure', al ser poco menos del 10 % de los datos no se eliminarán, pero sí se sustiturá por la media.\n",
    "- No hay datos duplicados. "
   ]
  },
  {
   "cell_type": "markdown",
   "id": "57714aa1",
   "metadata": {},
   "source": [
    "## Preprocesamiento de datos"
   ]
  },
  {
   "cell_type": "code",
   "execution_count": 10,
   "id": "d036be9b",
   "metadata": {},
   "outputs": [
    {
     "name": "stdout",
     "output_type": "stream",
     "text": [
      "Index(['rownumber', 'customerid', 'surname', 'creditscore', 'geography',\n",
      "       'gender', 'age', 'tenure', 'balance', 'numofproducts', 'hascrcard',\n",
      "       'isactivemember', 'estimatedsalary', 'exited'],\n",
      "      dtype='object')\n"
     ]
    }
   ],
   "source": [
    "#Cambio de minúsculas a mayúsculas en las columnas.\n",
    "\n",
    "col_names_lower = []\n",
    "\n",
    "for old_name in data.columns:\n",
    "    name_lowered = old_name.lower()\n",
    "    col_names_lower.append(name_lowered)\n",
    "    \n",
    "data.columns = col_names_lower\n",
    "\n",
    "print(data.columns)\n"
   ]
  },
  {
   "cell_type": "code",
   "execution_count": 11,
   "id": "550eabe2",
   "metadata": {
    "scrolled": false
   },
   "outputs": [
    {
     "name": "stdout",
     "output_type": "stream",
     "text": [
      "Index(['row_number', 'customer_id', 'surname', 'credit_score', 'geography',\n",
      "       'gender', 'age', 'tenure', 'balance', 'num_of_products', 'has_cr_card',\n",
      "       'is_active_member', 'estimated_salary', 'exited'],\n",
      "      dtype='object')\n"
     ]
    }
   ],
   "source": [
    "#Renombre de las columnas para que cada palabra esté dividida por un guión bajo. \n",
    "\n",
    "column_new ={\n",
    "    'rownumber': 'row_number', \n",
    "    'customerid': 'customer_id', \n",
    "    'creditscore': 'credit_score', \n",
    "    'numofproducts': 'num_of_products', \n",
    "    'hascrcard': 'has_cr_card', \n",
    "    'isactivemember': 'is_active_member',\n",
    "    'estimatedsalary': 'estimated_salary'\n",
    "    }\n",
    "\n",
    "data.rename(columns = column_new, inplace = True)\n",
    "\n",
    "print(data.columns) "
   ]
  },
  {
   "cell_type": "code",
   "execution_count": 12,
   "id": "2779e3ce",
   "metadata": {},
   "outputs": [],
   "source": [
    "#Eliminación de las columnas que no aportan al modelo de machine learning.\n",
    "\n",
    "data = data.drop(['row_number', 'customer_id', 'surname'], axis=1)"
   ]
  },
  {
   "cell_type": "code",
   "execution_count": 13,
   "id": "c8e1f2be",
   "metadata": {},
   "outputs": [
    {
     "name": "stdout",
     "output_type": "stream",
     "text": [
      "5.0\n"
     ]
    }
   ],
   "source": [
    "# Tratamiento de datos ausentes. \n",
    "\n",
    "tenure_mean = data['tenure'].mean().round()\n",
    "\n",
    "print(tenure_mean)"
   ]
  },
  {
   "cell_type": "code",
   "execution_count": 14,
   "id": "fa4a528b",
   "metadata": {},
   "outputs": [],
   "source": [
    "data['tenure'] = data['tenure'].fillna(tenure_mean)"
   ]
  },
  {
   "cell_type": "code",
   "execution_count": 15,
   "id": "557ca627",
   "metadata": {
    "scrolled": false
   },
   "outputs": [
    {
     "name": "stdout",
     "output_type": "stream",
     "text": [
      "credit_score        0\n",
      "geography           0\n",
      "gender              0\n",
      "age                 0\n",
      "tenure              0\n",
      "balance             0\n",
      "num_of_products     0\n",
      "has_cr_card         0\n",
      "is_active_member    0\n",
      "estimated_salary    0\n",
      "exited              0\n",
      "dtype: int64\n"
     ]
    }
   ],
   "source": [
    "print(data.isna().sum())"
   ]
  },
  {
   "cell_type": "markdown",
   "id": "d10dc873",
   "metadata": {},
   "source": [
    "## Evidencia del desequilibrio de clases"
   ]
  },
  {
   "cell_type": "code",
   "execution_count": 16,
   "id": "f76e80ed",
   "metadata": {
    "scrolled": true
   },
   "outputs": [
    {
     "name": "stdout",
     "output_type": "stream",
     "text": [
      "Users that still hava an account at Beta Bank: 7963\n",
      "Users that doesn't have an account at Beta Bank anymore: 2037\n"
     ]
    }
   ],
   "source": [
    "still_customers = data[data['exited'] == 0]\n",
    "\n",
    "non_customers = data[data['exited'] == 1]\n",
    "\n",
    "\n",
    "print('Users that still have an account at Beta Bank:', still_customers['exited'].count())\n",
    "print(\"Users that doesn't have an account at Beta Bank anymore:\", non_customers['exited'].count())"
   ]
  },
  {
   "cell_type": "code",
   "execution_count": 17,
   "id": "0fe43c3b",
   "metadata": {
    "scrolled": true
   },
   "outputs": [
    {
     "data": {
      "text/plain": [
       "<Axes: title={'center': 'Users that have an account at Beta Bank'}, xlabel='Exited'>"
      ]
     },
     "execution_count": 17,
     "metadata": {},
     "output_type": "execute_result"
    },
    {
     "data": {
      "image/png": "[encoded data removed]",
      "text/plain": [
       "<Figure size 640x480 with 1 Axes>"
      ]
     },
     "metadata": {},
     "output_type": "display_data"
    }
   ],
   "source": [
    "class_frequency = data['exited'].value_counts(normalize=True)\n",
    "\n",
    "class_frequency.plot(kind = 'bar', title = 'Users that have an account at Beta Bank', xlabel = 'Exited')"
   ]
  },
  {
   "cell_type": "markdown",
   "id": "012a3a4c",
   "metadata": {},
   "source": [
    "Tanto la gráfica como las cantidades extraídas demuestran el gran desequilibrio en la clase 'exited'. Podemos observar que es mucho más común en nuestros datos que los usuarios del banco permanezcan en el banco en lugar de que lo abandonen. "
   ]
  },
  {
   "cell_type": "markdown",
   "id": "fa6af933",
   "metadata": {},
   "source": [
    "## Prepraración de los datos para la elaboración de modelos"
   ]
  },
  {
   "cell_type": "code",
   "execution_count": 18,
   "id": "940669b4",
   "metadata": {
    "scrolled": false
   },
   "outputs": [
    {
     "data": {
      "text/html": [
       "<div>\n",
       "<style scoped>\n",
       "    .dataframe tbody tr th:only-of-type {\n",
       "        vertical-align: middle;\n",
       "    }\n",
       "\n",
       "    .dataframe tbody tr th {\n",
       "        vertical-align: top;\n",
       "    }\n",
       "\n",
       "    .dataframe thead th {\n",
       "        text-align: right;\n",
       "    }\n",
       "</style>\n",
       "<table border=\"1\" class=\"dataframe\">\n",
       "  <thead>\n",
       "    <tr style=\"text-align: right;\">\n",
       "      <th></th>\n",
       "      <th>credit_score</th>\n",
       "      <th>age</th>\n",
       "      <th>tenure</th>\n",
       "      <th>balance</th>\n",
       "      <th>num_of_products</th>\n",
       "      <th>has_cr_card</th>\n",
       "      <th>is_active_member</th>\n",
       "      <th>estimated_salary</th>\n",
       "      <th>exited</th>\n",
       "      <th>geography_Germany</th>\n",
       "      <th>geography_Spain</th>\n",
       "      <th>gender_Male</th>\n",
       "    </tr>\n",
       "  </thead>\n",
       "  <tbody>\n",
       "    <tr>\n",
       "      <th>0</th>\n",
       "      <td>619</td>\n",
       "      <td>42</td>\n",
       "      <td>2.0</td>\n",
       "      <td>0.00</td>\n",
       "      <td>1</td>\n",
       "      <td>1</td>\n",
       "      <td>1</td>\n",
       "      <td>101348.88</td>\n",
       "      <td>1</td>\n",
       "      <td>0</td>\n",
       "      <td>0</td>\n",
       "      <td>0</td>\n",
       "    </tr>\n",
       "    <tr>\n",
       "      <th>1</th>\n",
       "      <td>608</td>\n",
       "      <td>41</td>\n",
       "      <td>1.0</td>\n",
       "      <td>83807.86</td>\n",
       "      <td>1</td>\n",
       "      <td>0</td>\n",
       "      <td>1</td>\n",
       "      <td>112542.58</td>\n",
       "      <td>0</td>\n",
       "      <td>0</td>\n",
       "      <td>1</td>\n",
       "      <td>0</td>\n",
       "    </tr>\n",
       "    <tr>\n",
       "      <th>2</th>\n",
       "      <td>502</td>\n",
       "      <td>42</td>\n",
       "      <td>8.0</td>\n",
       "      <td>159660.80</td>\n",
       "      <td>3</td>\n",
       "      <td>1</td>\n",
       "      <td>0</td>\n",
       "      <td>113931.57</td>\n",
       "      <td>1</td>\n",
       "      <td>0</td>\n",
       "      <td>0</td>\n",
       "      <td>0</td>\n",
       "    </tr>\n",
       "  </tbody>\n",
       "</table>\n",
       "</div>"
      ],
      "text/plain": [
       "   credit_score  age  tenure    balance  num_of_products  has_cr_card  \\\n",
       "0           619   42     2.0       0.00                1            1   \n",
       "1           608   41     1.0   83807.86                1            0   \n",
       "2           502   42     8.0  159660.80                3            1   \n",
       "\n",
       "   is_active_member  estimated_salary  exited  geography_Germany  \\\n",
       "0                 1         101348.88       1                  0   \n",
       "1                 1         112542.58       0                  0   \n",
       "2                 0         113931.57       1                  0   \n",
       "\n",
       "   geography_Spain  gender_Male  \n",
       "0                0            0  \n",
       "1                1            0  \n",
       "2                0            0  "
      ]
     },
     "execution_count": 18,
     "metadata": {},
     "output_type": "execute_result"
    }
   ],
   "source": [
    "# Aplicación del método One Hot para aprovechar las columnas no numéricas restantes (geography y gender).\n",
    "\n",
    "data_ohe = pd.get_dummies(data, dtype = int, drop_first=True)\n",
    "\n",
    "data_ohe.head(3)"
   ]
  },
  {
   "cell_type": "markdown",
   "id": "424ae610",
   "metadata": {},
   "source": [
    "### División de los datos en conjuntas para entrenar los modelos"
   ]
  },
  {
   "cell_type": "code",
   "execution_count": 19,
   "id": "f388d487",
   "metadata": {},
   "outputs": [],
   "source": [
    "data_train, data_test = train_test_split(data_ohe, test_size = 0.4, train_size = 0.6, random_state = 888)"
   ]
  },
  {
   "cell_type": "code",
   "execution_count": 20,
   "id": "15ec74cb",
   "metadata": {},
   "outputs": [],
   "source": [
    "data_test, data_valid = train_test_split(data_test, test_size = 0.5, train_size = 0.5, random_state = 888)"
   ]
  },
  {
   "cell_type": "code",
   "execution_count": 21,
   "id": "de720919",
   "metadata": {},
   "outputs": [],
   "source": [
    "#Datos para el entrenamiento.\n",
    "train_features = data_train.drop(['exited'], axis=1)\n",
    "train_target = data_train['exited']\n",
    "\n",
    "#Datos para el test.\n",
    "test_features = data_test.drop(['exited'], axis=1)\n",
    "test_target = data_test['exited']\n",
    "\n",
    "#Datos para la validación.\n",
    "valid_features = data_valid.drop(['exited'], axis=1)\n",
    "valid_target = data_valid['exited']"
   ]
  },
  {
   "cell_type": "code",
   "execution_count": 22,
   "id": "81fac3b7",
   "metadata": {
    "scrolled": false
   },
   "outputs": [
    {
     "name": "stdout",
     "output_type": "stream",
     "text": [
      "(6000, 11)\n",
      "(6000,)\n",
      "\n",
      "(2000, 11)\n",
      "(2000,)\n",
      "\n",
      "(2000, 11)\n",
      "(2000,)\n"
     ]
    }
   ],
   "source": [
    "print(train_features.shape)\n",
    "print(train_target.shape)\n",
    "print()\n",
    "print(test_features.shape)\n",
    "print(test_target.shape)\n",
    "print()\n",
    "print(valid_features.shape)\n",
    "print(valid_target.shape)"
   ]
  },
  {
   "cell_type": "markdown",
   "id": "1e98dc51",
   "metadata": {},
   "source": [
    "## Entrenamiento de modelos ignorando el desequilibrio de clases"
   ]
  },
  {
   "cell_type": "markdown",
   "id": "1e38f565",
   "metadata": {},
   "source": [
    "## Modelo 1: \n",
    "### Árbol de dicisión"
   ]
  },
  {
   "cell_type": "code",
   "execution_count": 23,
   "id": "4b42b946",
   "metadata": {},
   "outputs": [
    {
     "name": "stdout",
     "output_type": "stream",
     "text": [
      "\n",
      "The best model found has a depth of 6 with an accuracy of 0.8545\n"
     ]
    }
   ],
   "source": [
    "best_acc_dt = 0\n",
    "\n",
    "best_depth_dt = 0\n",
    "\n",
    "for depth in range(1, 11):\n",
    "    model_dt = DecisionTreeClassifier(random_state = 888, max_depth = depth)\n",
    "    model_dt.fit(train_features, train_target)\n",
    "    valid_predictions = model_dt.predict(valid_features)\n",
    "    acc = accuracy_score(valid_target, valid_predictions)\n",
    "    if acc > best_acc_dt:\n",
    "        best_acc_dt = acc\n",
    "        best_depth_dt = depth\n",
    "\n",
    "print()\n",
    "print(f'The best model found has a depth of {best_depth_dt} with an accuracy of {best_acc_dt}')"
   ]
  },
  {
   "cell_type": "code",
   "execution_count": 24,
   "id": "b0a7b21d",
   "metadata": {},
   "outputs": [
    {
     "name": "stdout",
     "output_type": "stream",
     "text": [
      "Accuracy comparison: Decision Tree\n",
      "\n",
      "Training set: 0.8701666666666666\n",
      "Test set: 0.858\n"
     ]
    }
   ],
   "source": [
    "#Prueba de exactitud con el modelo elegido en su versión test y entrenamiento:\n",
    "\n",
    "model_dt = DecisionTreeClassifier(random_state = 888, max_depth = 6)\n",
    "\n",
    "model_dt.fit(train_features, train_target)\n",
    "\n",
    "train_predictions = model_dt.predict(train_features)\n",
    "\n",
    "test_predictions = model_dt.predict(test_features)\n",
    "\n",
    "print('Accuracy comparison: Decision Tree')\n",
    "print()\n",
    "print('Training set:', accuracy_score(train_target, train_predictions))\n",
    "print('Test set:', accuracy_score(test_target, test_predictions))"
   ]
  },
  {
   "cell_type": "code",
   "execution_count": 25,
   "id": "554b33bd",
   "metadata": {
    "scrolled": true
   },
   "outputs": [
    {
     "name": "stdout",
     "output_type": "stream",
     "text": [
      "Decision Tree\n",
      "\n",
      "Accuracy: 0.8545\n",
      "Recall: 0.42997542997543\n",
      "Precision: 0.7478632478632479\n",
      "F1: 0.5460218408736349\n"
     ]
    }
   ],
   "source": [
    "#Pruebas en el modelo Árbol de decisión.\n",
    "\n",
    "valid_predictions = model_dt.predict(valid_features)\n",
    "\n",
    "acc_valid_dt = accuracy_score(valid_target, valid_predictions)\n",
    "\n",
    "precision_dt = precision_score(valid_target, valid_predictions)\n",
    "\n",
    "recall_dt = recall_score(valid_target, valid_predictions)\n",
    "\n",
    "f1_dt = f1_score(valid_target, valid_predictions)\n",
    "\n",
    "print('Decision Tree')\n",
    "print()\n",
    "print('Accuracy:', acc_valid_dt)\n",
    "print('Recall:', recall_dt)\n",
    "print('Precision:', precision_dt)\n",
    "print('F1:', f1_dt)"
   ]
  },
  {
   "cell_type": "markdown",
   "id": "863fe788",
   "metadata": {},
   "source": [
    "Las métricas del modelo de Árbol de decisión evidencian que: \n",
    "\n",
    "- El desequilibrio de clases no permite que confiemos en la métrica de exactitud. \n",
    "- Al tener una precisión más alta que el recall se evidencia que el modelo encontró más respuesta negativas que positivas. \n",
    "- La métrica de F1 no está tan mal, pero no cumple los estándares de la prueba (F1 de al menos .59)."
   ]
  },
  {
   "cell_type": "markdown",
   "id": "5a683031",
   "metadata": {},
   "source": [
    "## Modelo 2: \n",
    "### Bosque aleatorio"
   ]
  },
  {
   "cell_type": "code",
   "execution_count": 26,
   "id": "22f10cff",
   "metadata": {},
   "outputs": [
    {
     "name": "stdout",
     "output_type": "stream",
     "text": [
      "The accuracy of the best model in the validation set(n_estimators = 59): 0.8625\n"
     ]
    }
   ],
   "source": [
    "#Prueba para elegir el mejor hiperparámetro para el modelo de Random Forest.\n",
    "\n",
    "best_score = 0\n",
    "\n",
    "best_est = 0\n",
    "\n",
    "for est in range(1, 60): \n",
    "    model_rf = RandomForestClassifier(random_state = 888, n_estimators = est) \n",
    "    model_rf.fit(train_features, train_target) \n",
    "    score = model_rf.score(valid_features, valid_target)\n",
    "    if score > best_score:\n",
    "        best_score = score\n",
    "        best_est = est\n",
    "\n",
    "print(\"The accuracy of the best model in the validation set(n_estimators = {}): {}\".format(best_est, best_score))"
   ]
  },
  {
   "cell_type": "code",
   "execution_count": 27,
   "id": "4125c522",
   "metadata": {},
   "outputs": [
    {
     "name": "stdout",
     "output_type": "stream",
     "text": [
      "Accuracy comparison: Random Forest\n",
      "\n",
      "Training set: 0.9998333333333334\n",
      "Test set: 0.8655\n"
     ]
    }
   ],
   "source": [
    "#Modelo con los hiperparámetros seleccionados.\n",
    "\n",
    "model_rf = RandomForestClassifier(random_state = 888, n_estimators = 59) \n",
    "\n",
    "model_rf.fit(train_features, train_target) \n",
    "\n",
    "acc_train_rf = model_rf.score(train_features, train_target)\n",
    "\n",
    "acc_test_rf = model_rf.score(test_features, test_target)\n",
    "\n",
    "print('Accuracy comparison: Random Forest')\n",
    "print()\n",
    "print('Training set:', acc_train_rf)\n",
    "print('Test set:', acc_test_rf)"
   ]
  },
  {
   "cell_type": "code",
   "execution_count": 28,
   "id": "58a7c7ac",
   "metadata": {
    "scrolled": false
   },
   "outputs": [
    {
     "name": "stdout",
     "output_type": "stream",
     "text": [
      "Random Forest\n",
      "\n",
      "Accuracy: 0.8625\n",
      "Recall: 0.45454545454545453\n",
      "Precision: 0.7773109243697479\n",
      "F1: 0.5736434108527132\n"
     ]
    }
   ],
   "source": [
    "#Pruebas en el modelo Bosque aleatorio.\n",
    "\n",
    "acc_valid_rf = model_rf.score(valid_features, valid_target)\n",
    "\n",
    "valid_predictions = model_rf.predict(valid_features)\n",
    "\n",
    "precision_rf = precision_score(valid_target, valid_predictions)\n",
    "\n",
    "recall_rf = recall_score(valid_target, valid_predictions)\n",
    "\n",
    "f1_rf = f1_score(valid_target, valid_predictions)\n",
    "\n",
    "print('Random Forest')\n",
    "print()\n",
    "print('Accuracy:', acc_valid_rf)\n",
    "print('Recall:', recall_rf)\n",
    "print('Precision:', precision_rf)\n",
    "print('F1:', f1_rf)\n"
   ]
  },
  {
   "cell_type": "markdown",
   "id": "31eb004f",
   "metadata": {},
   "source": [
    "Las métricas del modelo de Bosque aleatorio evidencian que: \n",
    "\n",
    "- El desequilibrio de clases no permite que confiemos en la métrica de exactitud. \n",
    "- La diferencia entre precision y recall son similares con el anterior modelo, mostrando la abundancia de respuestas negativas\n",
    "- La métrica de F1 no está tan mal, es la más alta hasta el momento, pero aún no cumple los estándares de la prueba (F1 de al menos .59)."
   ]
  },
  {
   "cell_type": "markdown",
   "id": "081bc820",
   "metadata": {},
   "source": [
    "## Modelo 3: \n",
    "### Regresión logística\n"
   ]
  },
  {
   "cell_type": "code",
   "execution_count": 29,
   "id": "80696c45",
   "metadata": {},
   "outputs": [
    {
     "name": "stdout",
     "output_type": "stream",
     "text": [
      "Accuracy comparison: Logistic Regression\n",
      "\n",
      "Training set: 0.7925\n",
      "Test set: 0.785\n"
     ]
    }
   ],
   "source": [
    "#Implementación del modelo de Regresión logística.\n",
    "\n",
    "model_lr = LogisticRegression(random_state = 888, solver = 'liblinear')\n",
    "\n",
    "model_lr.fit(train_features, train_target)\n",
    "\n",
    "score_train = model_lr.score(train_features, train_target) \n",
    "\n",
    "score_test = model_lr.score(test_features, test_target) \n",
    "\n",
    "print('Accuracy comparison: Logistic Regression')\n",
    "print()\n",
    "print('Training set:', score_train)\n",
    "print('Test set:', score_test)"
   ]
  },
  {
   "cell_type": "code",
   "execution_count": 30,
   "id": "0c1c2e95",
   "metadata": {
    "scrolled": false
   },
   "outputs": [
    {
     "name": "stdout",
     "output_type": "stream",
     "text": [
      "Logistic Regression\n",
      "\n",
      "Accuracy: 0.794\n",
      "Recall: 0.044226044226044224\n",
      "Precision: 0.43902439024390244\n",
      "F1: 0.08035714285714286\n"
     ]
    }
   ],
   "source": [
    "#Exactitud del modelo Regresión logística.\n",
    "\n",
    "acc_valid_lr = model_lr.score(valid_features, valid_target)\n",
    "\n",
    "valid_predictions = model_lr.predict(valid_features)\n",
    "\n",
    "precision_lr = precision_score(valid_target, valid_predictions)\n",
    "\n",
    "recall_lr = recall_score(valid_target, valid_predictions)\n",
    "\n",
    "f1_lr = f1_score(valid_target, valid_predictions)\n",
    "\n",
    "print('Logistic Regression')\n",
    "print()\n",
    "print('Accuracy:', acc_valid_lr)\n",
    "print('Recall:', recall_lr)\n",
    "print('Precision:', precision_lr)\n",
    "print('F1:', f1_lr)"
   ]
  },
  {
   "cell_type": "markdown",
   "id": "ea9844d9",
   "metadata": {},
   "source": [
    "Según las métricas del modelo de regresión logística, este es el modelo más inexacto de todos, con un F1 que se acerca más al 0 que al 1. "
   ]
  },
  {
   "cell_type": "markdown",
   "id": "d04c38c0",
   "metadata": {},
   "source": [
    "## Comparación de F1 de los tres modelos ignorando el desequilibrio\n"
   ]
  },
  {
   "cell_type": "code",
   "execution_count": 31,
   "id": "a4440f18",
   "metadata": {
    "scrolled": false
   },
   "outputs": [
    {
     "name": "stdout",
     "output_type": "stream",
     "text": [
      "Decision tree model F1: 0.546\n",
      "Random forest model F1: 0.574\n",
      "Logistic regression F1: 0.08\n"
     ]
    }
   ],
   "source": [
    "print('Decision tree model F1:', f1_dt.round(3))\n",
    "print('Random forest model F1:', f1_rf.round(3))\n",
    "print('Logistic regression F1:', f1_lr.round(3))"
   ]
  },
  {
   "cell_type": "markdown",
   "id": "fdebed8d",
   "metadata": {},
   "source": [
    "El modelo con mejores números es el de Bosque aleatorio. "
   ]
  },
  {
   "cell_type": "markdown",
   "id": "0915834d",
   "metadata": {},
   "source": [
    "## Tratando el desequilibrio de clases en el modelo Random Forest"
   ]
  },
  {
   "cell_type": "markdown",
   "id": "e024165b",
   "metadata": {},
   "source": [
    "### Método class_weight"
   ]
  },
  {
   "cell_type": "code",
   "execution_count": 32,
   "id": "8fe1e42d",
   "metadata": {},
   "outputs": [
    {
     "name": "stdout",
     "output_type": "stream",
     "text": [
      "F1: 0.5466237942122186\n"
     ]
    }
   ],
   "source": [
    "model_rf = RandomForestClassifier(random_state = 888, n_estimators = 59, class_weight = 'balanced_subsample') \n",
    "\n",
    "model_rf.fit(train_features, train_target) \n",
    "\n",
    "valid_predictions = model_rf.predict(valid_features)\n",
    "\n",
    "f1_rf_2 = f1_score(valid_target, valid_predictions)\n",
    "\n",
    "print('F1:', f1_rf_2)\n"
   ]
  },
  {
   "cell_type": "markdown",
   "id": "a41b5c45",
   "metadata": {},
   "source": [
    "En el caso del de Bosque aleatorio, el aplicar un método para balancear la desigualdad de las clases terminó empeorando su métrica de F1. "
   ]
  },
  {
   "cell_type": "markdown",
   "id": "16a87fcd",
   "metadata": {},
   "source": [
    "### Método de sobremuestreo"
   ]
  },
  {
   "cell_type": "code",
   "execution_count": 33,
   "id": "c28e0b9c",
   "metadata": {
    "scrolled": true
   },
   "outputs": [
    {
     "name": "stdout",
     "output_type": "stream",
     "text": [
      "F1: 0.6105834464043419\n"
     ]
    }
   ],
   "source": [
    "def upsample(train_features, train_target, repeat):\n",
    "    features_zeros = train_features[train_target == 0]\n",
    "    features_ones = train_features[train_target == 1]\n",
    "    target_zeros = train_target[train_target == 0]\n",
    "    target_ones = train_target[train_target == 1]\n",
    "\n",
    "    features_upsampled = pd.concat([features_zeros] + [features_ones] * repeat)\n",
    "    target_upsampled = pd.concat([target_zeros] + [target_ones] * repeat)\n",
    "\n",
    "    features_upsampled, target_upsampled = shuffle(\n",
    "        features_upsampled, target_upsampled, random_state = 888)\n",
    "\n",
    "    return features_upsampled, target_upsampled\n",
    "\n",
    "\n",
    "features_upsampled, target_upsampled = upsample(train_features, train_target, 10)\n",
    "\n",
    "model_rf = RandomForestClassifier(random_state = 888, n_estimators = 59)\n",
    "\n",
    "model_rf.fit(features_upsampled, target_upsampled)\n",
    "\n",
    "valid_predictions = model_rf.predict(valid_features)\n",
    "\n",
    "f1_rf_3 = f1_score(valid_target, valid_predictions)\n",
    "\n",
    "print('F1:', f1_rf_3)"
   ]
  },
  {
   "cell_type": "markdown",
   "id": "25dc60f4",
   "metadata": {},
   "source": [
    "En este caso, el método de sobremuestreo ayudó a nuestro modelo de Bosque aleatorio a superar el umbral de F1 mínimo para la prueba, siendo hasta ahora el mejor modelo donde se remedia el problema de desequilibrio de clases. "
   ]
  },
  {
   "cell_type": "markdown",
   "id": "f4f1cefb",
   "metadata": {},
   "source": [
    "## Tratando el desequilibrio de clases en el modelo Árbol de decisión"
   ]
  },
  {
   "cell_type": "markdown",
   "id": "3ca7a19d",
   "metadata": {},
   "source": [
    "### Método class_weight"
   ]
  },
  {
   "cell_type": "code",
   "execution_count": 34,
   "id": "72040b46",
   "metadata": {
    "scrolled": true
   },
   "outputs": [
    {
     "name": "stdout",
     "output_type": "stream",
     "text": [
      "F1: 0.5736137667304015\n"
     ]
    }
   ],
   "source": [
    "model_dt = DecisionTreeClassifier(random_state = 888, max_depth = 6, class_weight = 'balanced') \n",
    "\n",
    "model_dt.fit(train_features, train_target) \n",
    "\n",
    "valid_predictions = model_dt.predict(valid_features)\n",
    "\n",
    "f1_dt_2 = f1_score(valid_target, valid_predictions)\n",
    "\n",
    "print('F1:', f1_dt_2)"
   ]
  },
  {
   "cell_type": "markdown",
   "id": "bca6ccbc",
   "metadata": {},
   "source": [
    "En el caso del Árbol de decisión, ajustar el balance de las clases sí favoreció la métrica de F1, sin embargo, el nuevo número no supera el umbral ni las métricas del anterior modelo. "
   ]
  },
  {
   "cell_type": "markdown",
   "id": "45d2c311",
   "metadata": {},
   "source": [
    "### Método de sobremuestreo"
   ]
  },
  {
   "cell_type": "code",
   "execution_count": 35,
   "id": "438a6e69",
   "metadata": {},
   "outputs": [
    {
     "name": "stdout",
     "output_type": "stream",
     "text": [
      "F1: 0.47227658186562294\n"
     ]
    }
   ],
   "source": [
    "def upsample(train_features, train_target, repeat):\n",
    "    features_zeros = train_features[train_target == 0]\n",
    "    features_ones = train_features[train_target == 1]\n",
    "    target_zeros = train_target[train_target == 0]\n",
    "    target_ones = train_target[train_target == 1]\n",
    "\n",
    "    features_upsampled = pd.concat([features_zeros] + [features_ones] * repeat)\n",
    "    target_upsampled = pd.concat([target_zeros] + [target_ones] * repeat)\n",
    "\n",
    "    features_upsampled, target_upsampled = shuffle(\n",
    "        features_upsampled, target_upsampled, random_state = 888)\n",
    "\n",
    "    return features_upsampled, target_upsampled\n",
    "\n",
    "\n",
    "features_upsampled, target_upsampled = upsample(train_features, train_target, 10)\n",
    "\n",
    "model_dt = DecisionTreeClassifier(random_state = 888, max_depth = 6)\n",
    "\n",
    "model_dt.fit(features_upsampled, target_upsampled)\n",
    "\n",
    "valid_predictions = model_dt.predict(valid_features)\n",
    "\n",
    "f1_dt_3 = f1_score(valid_target, valid_predictions)\n",
    "\n",
    "print('F1:', f1_dt_3)"
   ]
  },
  {
   "cell_type": "markdown",
   "id": "05fb8ba4",
   "metadata": {},
   "source": [
    "Al contrario del modelo anterior, en el modelo de Árbol de decisión el implementar el método de sobremuestreo no ayudó a las métricas del modelo, de hecho, empeoró su F1. "
   ]
  },
  {
   "cell_type": "markdown",
   "id": "31d37bc6",
   "metadata": {},
   "source": [
    "## Tratando el desequilibrio de clases en el modelo Regresión logística"
   ]
  },
  {
   "cell_type": "markdown",
   "id": "03a0efed",
   "metadata": {},
   "source": [
    "### Método class_weight"
   ]
  },
  {
   "cell_type": "code",
   "execution_count": 36,
   "id": "94c3ce48",
   "metadata": {},
   "outputs": [
    {
     "name": "stdout",
     "output_type": "stream",
     "text": [
      "F1: 0.4697872340425531\n"
     ]
    }
   ],
   "source": [
    "model_lr = LogisticRegression(random_state = 888, solver = 'liblinear', class_weight = 'balanced') \n",
    "\n",
    "model_lr.fit(train_features, train_target) \n",
    "\n",
    "valid_predictions = model_lr.predict(valid_features)\n",
    "\n",
    "f1_lr_2 = f1_score(valid_target, valid_predictions)\n",
    "\n",
    "print('F1:', f1_lr_2)"
   ]
  },
  {
   "cell_type": "markdown",
   "id": "9465d4b4",
   "metadata": {},
   "source": [
    "### Método de sobremuestreo"
   ]
  },
  {
   "cell_type": "code",
   "execution_count": 37,
   "id": "e9dcb316",
   "metadata": {},
   "outputs": [
    {
     "name": "stdout",
     "output_type": "stream",
     "text": [
      "F1: 0.3461868037703513\n"
     ]
    }
   ],
   "source": [
    "def upsample(train_features, train_target, repeat):\n",
    "    features_zeros = train_features[train_target == 0]\n",
    "    features_ones = train_features[train_target == 1]\n",
    "    target_zeros = train_target[train_target == 0]\n",
    "    target_ones = train_target[train_target == 1]\n",
    "\n",
    "    features_upsampled = pd.concat([features_zeros] + [features_ones] * repeat)\n",
    "    target_upsampled = pd.concat([target_zeros] + [target_ones] * repeat)\n",
    "\n",
    "    features_upsampled, target_upsampled = shuffle(\n",
    "        features_upsampled, target_upsampled, random_state = 888)\n",
    "\n",
    "    return features_upsampled, target_upsampled\n",
    "\n",
    "\n",
    "features_upsampled, target_upsampled = upsample(train_features, train_target, 10)\n",
    "\n",
    "model_lr = LogisticRegression(random_state = 888, solver = 'liblinear')\n",
    "\n",
    "model_lr.fit(features_upsampled, target_upsampled)\n",
    "\n",
    "valid_predictions = model_lr.predict(valid_features)\n",
    "\n",
    "f1_lr_3 = f1_score(valid_target, valid_predictions)\n",
    "\n",
    "print('F1:', f1_lr_3)"
   ]
  },
  {
   "cell_type": "markdown",
   "id": "6bea3732",
   "metadata": {},
   "source": [
    "En cuanto a la Regresión logística, el tratar el desequilibrio de clases, ya fuera ajustando el balance o implementando un sobremuestreo antes de entrenar al modelo ayudó en gran medida a mejorar sus métricas; sin embargo, sigue siendo el modelo menos preciso. "
   ]
  },
  {
   "cell_type": "markdown",
   "id": "dea93ced",
   "metadata": {},
   "source": [
    "## Comparación de F1 de los tres modelos y los métodos para tratar el desequilibrio"
   ]
  },
  {
   "cell_type": "code",
   "execution_count": 38,
   "id": "97abe423",
   "metadata": {
    "scrolled": false
   },
   "outputs": [
    {
     "name": "stdout",
     "output_type": "stream",
     "text": [
      "Random Forest model\n",
      "Original F1: 0.574\n",
      "Class weight method F1: 0.547\n",
      "Upsampling method F1: 0.611\n",
      "\n",
      "Decision Tree model\n",
      "Original F1: 0.546\n",
      "Class weight method F1: 0.574\n",
      "Upsampling method F1: 0.472\n",
      "\n",
      "Logistic Regression model\n",
      "Original F1: 0.08\n",
      "Class weight method F1: 0.47\n",
      "Upsampling method F1: 0.346\n"
     ]
    }
   ],
   "source": [
    "print('Random Forest model')\n",
    "print('Original F1:', f1_rf.round(3))\n",
    "print('Class weight method F1:', f1_rf_2.round(3))\n",
    "print('Upsampling method F1:', f1_rf_3.round(3))\n",
    "print()\n",
    "print('Decision Tree model')\n",
    "print('Original F1:', f1_dt.round(3))\n",
    "print('Class weight method F1:', f1_dt_2.round(3))\n",
    "print('Upsampling method F1:', f1_dt_3.round(3))\n",
    "print()\n",
    "print('Logistic Regression model')\n",
    "print('Original F1:', f1_lr.round(3))\n",
    "print('Class weight method F1:', f1_lr_2.round(3))\n",
    "print('Upsampling method F1:', f1_lr_3.round(3))"
   ]
  },
  {
   "cell_type": "markdown",
   "id": "223a1de5",
   "metadata": {},
   "source": [
    "Las anteriores métricas nos permiten elegir sin duda alguna al modelo de Bosque aleatorio con el método de sobremuestreo como el mejor modelo, siendo el único que superó el umbral requerido de F1."
   ]
  },
  {
   "cell_type": "markdown",
   "id": "acabe053",
   "metadata": {},
   "source": [
    "## Métrica AUC-ROC\n",
    "\n",
    "### Comparando el modelo elegido con un modelo aleatorio"
   ]
  },
  {
   "cell_type": "code",
   "execution_count": 39,
   "id": "a2968481",
   "metadata": {},
   "outputs": [
    {
     "name": "stdout",
     "output_type": "stream",
     "text": [
      "0.2790035587188612\n"
     ]
    }
   ],
   "source": [
    "#Ejecución del Dummy Classifier para generar un modelo aleatorio. \n",
    "\n",
    "dummy_clf = DummyClassifier(random_state = 888, strategy = 'uniform')\n",
    "\n",
    "dummy_clf.fit(train_features, train_target)\n",
    "\n",
    "dummy_predictions = dummy_clf.predict(valid_features)\n",
    "\n",
    "dummy_f1 = f1_score(valid_target, dummy_predictions)\n",
    "\n",
    "print(dummy_f1)"
   ]
  },
  {
   "cell_type": "code",
   "execution_count": 40,
   "id": "fa86feb9",
   "metadata": {},
   "outputs": [
    {
     "name": "stdout",
     "output_type": "stream",
     "text": [
      "F1: 0.6105834464043419\n"
     ]
    }
   ],
   "source": [
    "# Modelo elegido: \n",
    "\n",
    "model_rf = RandomForestClassifier(random_state = 888, n_estimators = 59)\n",
    "\n",
    "model_rf.fit(features_upsampled, target_upsampled)\n",
    "\n",
    "valid_predictions = model_rf.predict(valid_features)\n",
    "\n",
    "chosen_model_f1 = f1_score(valid_target, valid_predictions)\n",
    "\n",
    "print('F1:', chosen_model_f1)"
   ]
  },
  {
   "cell_type": "code",
   "execution_count": 41,
   "id": "f0742afd",
   "metadata": {},
   "outputs": [
    {
     "name": "stdout",
     "output_type": "stream",
     "text": [
      "0.48905993821248056\n"
     ]
    }
   ],
   "source": [
    "dummy_auc_roc = roc_auc_score(valid_target, dummy_predictions)\n",
    "\n",
    "print(dummy_auc_roc)"
   ]
  },
  {
   "cell_type": "code",
   "execution_count": 42,
   "id": "f012b090",
   "metadata": {},
   "outputs": [
    {
     "name": "stdout",
     "output_type": "stream",
     "text": [
      "0.743456090913718\n"
     ]
    }
   ],
   "source": [
    "auc_roc = roc_auc_score(valid_target, valid_predictions)\n",
    "\n",
    "print(auc_roc)"
   ]
  },
  {
   "cell_type": "markdown",
   "id": "dd12565e",
   "metadata": {},
   "source": [
    "## Conclusiones"
   ]
  },
  {
   "cell_type": "markdown",
   "id": "72c6fd3d",
   "metadata": {},
   "source": [
    "1. El mejor modelo para predecir si un cliente o usuario de Beta Bank permanecerá o no en el banco es el Bosque aleatorio con sobremuestreo, obteniendo una métrica F1 de 0.611, 0.021 sobre el umbral requerido. \n",
    "2. Ninguno de los otros modelos, aún variando los métodos para tratar el desequilibrio, lograron pasar el umbral requerido.\n",
    "3. El modelo elegido logró superar las métricas del modelo aleatorio, siendo su valor AUC-ROC igual a 0.743, a diferencia del modelo aleatorio cuyo valor AUC-ROC fue de 0.489.\n",
    "4. Los datos contaban con un gran desequilibrio de clases, siendo mucho más común los clientes que permanecían vinculados al banco que los que no. \n",
    "5. Se encontró un porcentaje de casi el 10 % de los datos de la columna 'tenure' ausentes, para no perder el resto de columnas de dichos datos se decidió rellenarlos con el promedio (5 años)."
   ]
  }
 ],
 "metadata": {
  "kernelspec": {
   "display_name": "Python 3 (ipykernel)",
   "language": "python",
   "name": "python3"
  },
  "language_info": {
   "codemirror_mode": {
    "name": "ipython",
    "version": 3
   },
   "file_extension": ".py",
   "mimetype": "text/x-python",
   "name": "python",
   "nbconvert_exporter": "python",
   "pygments_lexer": "ipython3",
   "version": "3.11.5"
  }
 },
 "nbformat": 4,
 "nbformat_minor": 5
}
